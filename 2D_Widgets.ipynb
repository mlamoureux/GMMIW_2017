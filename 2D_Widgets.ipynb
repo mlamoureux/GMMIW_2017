{
 "cells": [
  {
   "cell_type": "markdown",
   "metadata": {},
   "source": [
    "## Widgets, for interactive plotting in 2D\n",
    "\n",
    "Widgets are a quick way to get interactivity in your Jupyter displays.\n",
    "\n",
    "Jupyter has its own version of widgets, based on Python widgets. We use the **interact** command to access them.\n"
   ]
  },
  {
   "cell_type": "code",
   "execution_count": 1,
   "metadata": {
    "collapsed": true
   },
   "outputs": [],
   "source": [
    "from ipywidgets import interact"
   ]
  },
  {
   "cell_type": "markdown",
   "metadata": {},
   "source": [
    "**First** we define a simple function that the widgets will activate."
   ]
  },
  {
   "cell_type": "code",
   "execution_count": 2,
   "metadata": {
    "collapsed": true
   },
   "outputs": [],
   "source": [
    "def f(x):\n",
    "    return x\n"
   ]
  },
  {
   "cell_type": "markdown",
   "metadata": {},
   "source": [
    "**Next** We create the widgets by calling the **interact** function, using an argument type for **x**. The choice of **x** will give use sliders, check boxes, or text entry boxes."
   ]
  },
  {
   "cell_type": "code",
   "execution_count": 3,
   "metadata": {},
   "outputs": [
    {
     "data": {
      "application/vnd.jupyter.widget-view+json": {
       "model_id": "57f69c34a2c3488d9ff0373a9d69e043"
      }
     },
     "metadata": {},
     "output_type": "display_data"
    },
    {
     "data": {
      "text/plain": [
       "<function __main__.f>"
      ]
     },
     "execution_count": 3,
     "metadata": {},
     "output_type": "execute_result"
    }
   ],
   "source": [
    "interact(f,x=(0,10))"
   ]
  },
  {
   "cell_type": "code",
   "execution_count": 4,
   "metadata": {},
   "outputs": [
    {
     "data": {
      "application/vnd.jupyter.widget-view+json": {
       "model_id": "8ea629cea8b3401b820e320e9d38b768"
      }
     },
     "metadata": {},
     "output_type": "display_data"
    },
    {
     "data": {
      "text/plain": [
       "<function __main__.f>"
      ]
     },
     "execution_count": 4,
     "metadata": {},
     "output_type": "execute_result"
    }
   ],
   "source": [
    "interact(f,x=(0.0,10.0))"
   ]
  },
  {
   "cell_type": "code",
   "execution_count": 5,
   "metadata": {},
   "outputs": [
    {
     "data": {
      "application/vnd.jupyter.widget-view+json": {
       "model_id": "eed8a161dd3a41dd9623280f51eb917e"
      }
     },
     "metadata": {},
     "output_type": "display_data"
    },
    {
     "data": {
      "text/plain": [
       "<function __main__.f>"
      ]
     },
     "execution_count": 5,
     "metadata": {},
     "output_type": "execute_result"
    }
   ],
   "source": [
    "interact(f,x=True)"
   ]
  },
  {
   "cell_type": "code",
   "execution_count": 6,
   "metadata": {},
   "outputs": [
    {
     "data": {
      "application/vnd.jupyter.widget-view+json": {
       "model_id": "c484e775387f445d89af16b9f71b8f18"
      }
     },
     "metadata": {},
     "output_type": "display_data"
    },
    {
     "data": {
      "text/plain": [
       "<function __main__.f>"
      ]
     },
     "execution_count": 6,
     "metadata": {},
     "output_type": "execute_result"
    }
   ],
   "source": [
    "interact(f,x='Hello World')"
   ]
  },
  {
   "cell_type": "markdown",
   "metadata": {},
   "source": [
    "### Plot animations\n",
    "\n",
    "**Now** let's do some more interesting examples where we get the widget to plot something interesting.\n",
    "\n",
    "We will import some utility functions for plotting and numerics."
   ]
  },
  {
   "cell_type": "code",
   "execution_count": 7,
   "metadata": {
    "collapsed": true
   },
   "outputs": [],
   "source": [
    "%matplotlib inline\n",
    "from numpy import *\n",
    "from matplotlib.pyplot import *"
   ]
  },
  {
   "cell_type": "markdown",
   "metadata": {},
   "source": [
    "**First** we define the update function which will plot something interesting for us. In this case we plot the function $$f(x) = x^k$$ for various values of $k$. \n",
    "\n",
    "The **show** command in the function is important, to get the plot to display."
   ]
  },
  {
   "cell_type": "code",
   "execution_count": 8,
   "metadata": {
    "collapsed": true
   },
   "outputs": [],
   "source": [
    "x=linspace(0,1)\n",
    "\n",
    "def update(k=0):\n",
    "    plot(x,x**k)\n",
    "    show()"
   ]
  },
  {
   "cell_type": "markdown",
   "metadata": {},
   "source": [
    "**Now** we can the interact commad using the update function, and a slider."
   ]
  },
  {
   "cell_type": "code",
   "execution_count": 9,
   "metadata": {},
   "outputs": [
    {
     "data": {
      "application/vnd.jupyter.widget-view+json": {
       "model_id": "ffb6ba2181d24412b79e36c47d8aa2f0"
      }
     },
     "metadata": {},
     "output_type": "display_data"
    },
    {
     "data": {
      "text/plain": [
       "<function __main__.update>"
      ]
     },
     "execution_count": 9,
     "metadata": {},
     "output_type": "execute_result"
    }
   ],
   "source": [
    "interact(update,k=(0,10))"
   ]
  },
  {
   "cell_type": "markdown",
   "metadata": {},
   "source": [
    "**We** can do more complex plots with many sliders. For instance, let's explore the sine funciton as it ofter appears in signal processing. It can have an amplitude, frequency and phase. We define the appropriate function and include sliders for this.\n",
    "\n",
    "$$t\\mapsto A\\sin(2\\pi f t + \\phi ).$$\n",
    "\n",
    "When we define the function, we can include some default values in the argument list."
   ]
  },
  {
   "cell_type": "code",
   "execution_count": 10,
   "metadata": {
    "collapsed": true
   },
   "outputs": [],
   "source": [
    "t = linspace(0,1,1000)\n",
    "\n",
    "def plot_sine(A=4,f=2,phi=0):\n",
    "    plot(t,A*sin(2*pi*f*t + phi))\n",
    "    axis([0,1,-6,6])\n",
    "    show()"
   ]
  },
  {
   "cell_type": "markdown",
   "metadata": {},
   "source": [
    "When calling the **interact** function, makes sure the list of parameters have the same name as the action function."
   ]
  },
  {
   "cell_type": "code",
   "execution_count": 11,
   "metadata": {},
   "outputs": [
    {
     "data": {
      "application/vnd.jupyter.widget-view+json": {
       "model_id": "36fd6d70980744bc9aac31235688e21d"
      }
     },
     "metadata": {},
     "output_type": "display_data"
    },
    {
     "data": {
      "text/plain": [
       "<function __main__.plot_sine>"
      ]
     },
     "execution_count": 11,
     "metadata": {},
     "output_type": "execute_result"
    }
   ],
   "source": [
    "interact(plot_sine,A=(0,10), f=(1,10), phi=(0,2*pi))"
   ]
  },
  {
   "cell_type": "markdown",
   "metadata": {},
   "source": [
    "## Other graphics\n",
    "\n",
    "You are not limited to simple 2D plots. The widgets can control more interesting graphics, as in this network example. (from github.com/jupyter-widgets/ipywidgets )"
   ]
  },
  {
   "cell_type": "code",
   "execution_count": 12,
   "metadata": {
    "collapsed": true
   },
   "outputs": [],
   "source": [
    "import networkx as nx"
   ]
  },
  {
   "cell_type": "code",
   "execution_count": 13,
   "metadata": {
    "collapsed": true
   },
   "outputs": [],
   "source": [
    "# wrap a few graph generation functions so they have the same signature\n",
    "\n",
    "def random_lobster(n, m, k, p):\n",
    "    return nx.random_lobster(n, p, p / m)\n",
    "\n",
    "def powerlaw_cluster(n, m, k, p):\n",
    "    return nx.powerlaw_cluster_graph(n, m, p)\n",
    "\n",
    "def erdos_renyi(n, m, k, p):\n",
    "    return nx.erdos_renyi_graph(n, p)\n",
    "\n",
    "def newman_watts_strogatz(n, m, k, p):\n",
    "    return nx.newman_watts_strogatz_graph(n, k, p)\n",
    "\n",
    "def plot_random_graph(n, m, k, p, generator):\n",
    "    g = generator(n, m, k, p)\n",
    "    nx.draw(g)\n",
    "    show()"
   ]
  },
  {
   "cell_type": "code",
   "execution_count": 14,
   "metadata": {},
   "outputs": [
    {
     "data": {
      "application/vnd.jupyter.widget-view+json": {
       "model_id": "176ae6c34c4d45fcb48d45e626765c6a"
      }
     },
     "metadata": {},
     "output_type": "display_data"
    }
   ],
   "source": [
    "interact(plot_random_graph, n=(2,30), m=(1,10), k=(1,10), p=(0.0, 1.0, 0.001),\n",
    "         generator={\n",
    "             'lobster': random_lobster,\n",
    "             'power law': powerlaw_cluster,\n",
    "             'Newman-Watts-Strogatz': newman_watts_strogatz,\n",
    "             u'Erdős-Rényi': erdos_renyi,\n",
    "         });"
   ]
  },
  {
   "cell_type": "code",
   "execution_count": null,
   "metadata": {
    "collapsed": true
   },
   "outputs": [],
   "source": []
  }
 ],
 "metadata": {
  "kernelspec": {
   "display_name": "Python 3",
   "language": "python",
   "name": "python3"
  },
  "language_info": {
   "codemirror_mode": {
    "name": "ipython",
    "version": 3
   },
   "file_extension": ".py",
   "mimetype": "text/x-python",
   "name": "python",
   "nbconvert_exporter": "python",
   "pygments_lexer": "ipython3",
   "version": "3.6.1"
  },
  "widgets": {
   "state": {
    "1064301876684a468e15e8b118bbc333": {
     "views": [
      {
       "cell_index": 14
      }
     ]
    },
    "2eae34f83004498c8f1068d010631a55": {
     "views": [
      {
       "cell_index": 22
      }
     ]
    },
    "453347773c3444ae8203c516b4f38f41": {
     "views": [
      {
       "cell_index": 8
      }
     ]
    },
    "557bab349e594e7b8dc73fe80e062a1d": {
     "views": [
      {
       "cell_index": 5
      }
     ]
    },
    "6be7f9e8c3df4ddaa5a28c34f818a24b": {
     "views": [
      {
       "cell_index": 6
      }
     ]
    },
    "ecfa854c65fa412fab109127c7288ccb": {
     "views": [
      {
       "cell_index": 7
      }
     ]
    },
    "f8a8d8d1ed5840f59bf96e718aae045f": {
     "views": [
      {
       "cell_index": 18
      }
     ]
    }
   },
   "version": "1.2.0"
  }
 },
 "nbformat": 4,
 "nbformat_minor": 2
}
