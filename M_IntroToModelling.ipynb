{
 "cells": [
  {
   "cell_type": "markdown",
   "metadata": {
    "slideshow": {
     "slide_type": "slide"
    }
   },
   "source": [
    "<h1 align=\"center\">Math Modelling in Industry Workshop</h1>\n",
    "\n",
    "<h4 align=\"center\">July 31 - August 5, 2017 </h4>\n",
    "\n",
    "<h4 align=\"center\"> PIMS - University of Manitoba </h4>\n",
    "\n",
    "\n",
    "<h2 align=\"center\">Introduction to Mathematical Modelling</h2>\n",
    "\n",
    "<h4 align=\"center\">Michael P. Lamoureux </h4>\n",
    "\n",
    "\n"
   ]
  },
  {
   "cell_type": "markdown",
   "metadata": {
    "slideshow": {
     "slide_type": "slide"
    }
   },
   "source": [
    "# Introduction to Mathematical Modelling\n",
    "\n",
    "\n",
    "### Useful texts\n",
    "\n",
    "- Practical Applied Mathematics, Sam Howison https://people.maths.ox.ac.uk/fowler/courses/tech/sdh.pdf \n",
    "- Mathematical Models in the Applied Sciences, A.C. Fowler\n",
    "- Python for Data Analysis, Wes McKinney\n",
    "- Python for Scientists, John M. Stewart \n",
    "\n",
    "All available in paperback from Amazon.\n",
    "\n"
   ]
  },
  {
   "cell_type": "markdown",
   "metadata": {
    "slideshow": {
     "slide_type": "slide"
    }
   },
   "source": [
    "### Software  we will use\n",
    "\n",
    "- Jupyter, a notebook system to combine text, formulas, code\n",
    "- Python\n",
    "- NumPy, SciPy, Matplotlib, ipywidgets \n"
   ]
  },
  {
   "cell_type": "markdown",
   "metadata": {
    "slideshow": {
     "slide_type": "slide"
    }
   },
   "source": [
    "## Mathematical modeling\n",
    "\n",
    "### A bit of art, a bit of science\n",
    "- build a model (Art / creation)\n",
    "- validate the model (Science - hypothesis testing)\n",
    "- new insights, new predictions (Value)"
   ]
  },
  {
   "cell_type": "markdown",
   "metadata": {
    "slideshow": {
     "slide_type": "slide"
    }
   },
   "source": [
    "## The procedure of modeling (A.C. Fowler)\n",
    "\n",
    "1. Problem identification\n",
    "1. Model formulation\n",
    "1. Reduction\n",
    "1. Analysis\n",
    "1. Computation\n",
    "1. Model validation\n"
   ]
  },
  {
   "cell_type": "markdown",
   "metadata": {
    "slideshow": {
     "slide_type": "skip"
    }
   },
   "source": [
    "## Mathematical modeling\n",
    "Math modeling is a bit of an art. We want to create a representation of some process that is quantitative, and allows us to do some calculations that produce insight into process. Ideally, the model should be validated by comparing its results with observations of the real process, and indeed we would like to use the model to make predictions about the process that we have not yet observed (but would like to). \n",
    "\n",
    "I would suggest this is a good place to read up on the process of mathematical modeling. Different authors have different ideas on how this is done, and you might find something out there that really resonates with you.\n",
    "\n",
    "Here is how A.C. Fowler breaks it down, in his book \"Mathematical Model in the Applied Sciences.\""
   ]
  },
  {
   "cell_type": "markdown",
   "metadata": {
    "slideshow": {
     "slide_type": "subslide"
    }
   },
   "source": [
    "### The procedure of modeling\n",
    "\n",
    "1._Problem identification\n",
    "\n",
    "Identify a problem. Something we don't understand, a phenomena that needs an explanation. Try to identify a mechanism that explains the phenomena. "
   ]
  },
  {
   "cell_type": "markdown",
   "metadata": {
    "slideshow": {
     "slide_type": "subslide"
    }
   },
   "source": [
    "2._Model formulation\n",
    "\n",
    "- Once identified, formulate the mechanism mathematically. \n",
    "- Identify variables, find dependences, and formulate as systems of equations \n",
    "- use physical laws (e.g. conservation of mass, of energy), empirical laws (e.g. friction, statistical relations), or hypothesized laws (e.g. rates of predation depends on the product of the number of predators time the number of prey). \n",
    "- Simpler models are often more useful than complex models \n",
    "- Consider  well-posedness as we develop the model.)\n"
   ]
  },
  {
   "cell_type": "markdown",
   "metadata": {
    "slideshow": {
     "slide_type": "subslide"
    }
   },
   "source": [
    "3._Reduction\n",
    "\n",
    "To get to a solution, it is sometimes important to remove unnecessary terms in the model. \n",
    "- Non-dimensionalize the problem, discover which terms are unusually large or unusually small \n",
    "- Asymptotic methods to focus on the important term\n",
    "- Buckingham Pi theorem to discover key relations"
   ]
  },
  {
   "cell_type": "markdown",
   "metadata": {
    "slideshow": {
     "slide_type": "subslide"
    }
   },
   "source": [
    "4._Analysis\n",
    "\n",
    "- the process of breaking up a complicated model into various simpler components \n",
    "- e.g. components that work at different time scales, or length scales. (e.g. big waves, ripples on ocean) \n",
    "- Each individual component may represent a problem to be solved on its own\n",
    "- Pieces brought together for a final model \n",
    "- In many cases, exact analytic solutions can be obtained for the component pieces"
   ]
  },
  {
   "cell_type": "markdown",
   "metadata": {
    "slideshow": {
     "slide_type": "subslide"
    }
   },
   "source": [
    "5._Computation\n",
    "\n",
    "- analytic solution if possible\n",
    "- numerical computation where necessary\n",
    "- link component parts, analytic solutions with numerical patching\n",
    "- all are options, and all have their use in various modeling."
   ]
  },
  {
   "cell_type": "markdown",
   "metadata": {
    "slideshow": {
     "slide_type": "subslide"
    }
   },
   "source": [
    "6._Model validation\n",
    "\n",
    "- go back to the original problem, to see if the model and analysis explains the phenomena being studied \n",
    "- Do the computed data match the experimental data? \n",
    "- Does predicted stability (or regions of stability) in the model match the observed stabiity of the process?\n",
    "- Fowler make the point that the justification of the model is often that the various choices we made in developing the model are seen to work. "
   ]
  },
  {
   "cell_type": "markdown",
   "metadata": {
    "slideshow": {
     "slide_type": "slide"
    }
   },
   "source": [
    "## A sample problem (A.C. Fowler)\n",
    "\n",
    "- traffic jams\n",
    "- observes cars piling up, and slowing. Then the flow suddenly clears.\n",
    "- can we model this, to explain the phenomena?"
   ]
  },
  {
   "cell_type": "markdown",
   "metadata": {
    "slideshow": {
     "slide_type": "slide"
    }
   },
   "source": [
    "![Traffic jam image](Traffic.png)"
   ]
  },
  {
   "cell_type": "markdown",
   "metadata": {
    "slideshow": {
     "slide_type": "slide"
    }
   },
   "source": [
    "## Sample model\n",
    "- continuous approximation, lots of cars flowing on a straight road\n",
    "- $\\rho = \\rho(x,t)$ density of cars at point $x$, time $t$ (num cars/ meter)\n",
    "- $ v = v(x,t)$ velocity of cars at $x,t$ (meters/sec)\n",
    "- $ q = \\rho v$ flux of cars (num cars/sec)\n"
   ]
  },
  {
   "cell_type": "markdown",
   "metadata": {
    "slideshow": {
     "slide_type": "slide"
    }
   },
   "source": [
    "Conservation of mass:\n",
    "\n",
    "$$\\frac{\\partial}{\\partial t} \\int_{x_1}^{x_2} \\rho(x,t) \\, dx = q(x_1) - q(x_2) \n",
    "= -\\int_{x_1}^{x_2} \\frac{\\partial}{\\partial x} q(x,t) \\, dx.$$\n",
    "\n",
    "Differential equation:\n",
    "\n",
    "$$ \\rho_t + q_x = 0$$"
   ]
  },
  {
   "cell_type": "markdown",
   "metadata": {
    "slideshow": {
     "slide_type": "slide"
    }
   },
   "source": [
    "Simple model: velocity depends on position\n",
    "$$v = v(x)$$\n",
    "\n",
    "Solution:\n",
    "$$ \\rho(x,t) = f(t-S(x))/v(x), \\mbox{ where } S(x) = \\int^x \\frac{1}{v(x')} dx'$$\n",
    "\n",
    "Travelling  wave solution. Doesn't explain traffic jams."
   ]
  },
  {
   "cell_type": "markdown",
   "metadata": {
    "slideshow": {
     "slide_type": "slide"
    }
   },
   "source": [
    "Possible better model: Velocity decreases as density increases.\n",
    "\n",
    "- $ v = 1-\\rho$, velocity decreases as density goes to 1\n",
    "- $ q = v\\rho, q_x = (1-2\\rho)\\rho_x$\n",
    "- PDE $$\\rho_t + (1-2\\rho)\\rho_x = 0$$\n"
   ]
  },
  {
   "cell_type": "markdown",
   "metadata": {
    "slideshow": {
     "slide_type": "slide"
    }
   },
   "source": [
    "## Analysis (from Fowler)\n",
    "- PDE $$\\rho_t + (1-2\\rho)\\rho_x = 0$$\n",
    "- sign of $(1-2\\rho)$ is important\n",
    "- When $\\rho_x > 0$, and $\\rho<1/2$, density wiil decrease\n",
    "- When $\\rho_x > 0$, and $\\rho>1/2$, density wiil increase\n",
    "- tends to create a shock at $\\rho = 1/2$\n"
   ]
  },
  {
   "cell_type": "markdown",
   "metadata": {
    "slideshow": {
     "slide_type": "slide"
    }
   },
   "source": [
    "![Image from Fowler text](Fowler_fig1_1_cropped.jpg)"
   ]
  },
  {
   "cell_type": "markdown",
   "metadata": {
    "slideshow": {
     "slide_type": "subslide"
    }
   },
   "source": [
    "## A sample model\n",
    "Fowler suggests a model to explain how traffic jams form. Specifically, we observe sometimes that traffic on a road slows to a crawl, with many cars packed together. It creeps along from a while, then the road clears and we rapidly go back to travelling at the speed limit. This is a weird phenomena -- there was nothing on the road to block the traffic, it just seemed to cluster up and slow down. \n",
    "\n",
    "For a simplified model, we do a continuous approximation. Imagine a straight length of road, with cars distributed on along the road. We define a function $\\rho = \\rho(x,t)$ to be the density of cars (say number of cars per meter of roadway -- this could be a fractional number), which varies with both position $x$ along the road, and time $t$. We assume all the cars at some point are moving with roughly the same velocity, which we denote by $v = v(x,t)$, a function that varies with both position and time. The flux $q=q(x,t)$ is the number of cars per second that pass through the point $x$ on the roadway, which can vary with the time $t$. Of course we have that flux is just the density times velocity, so\n",
    "$$q = v\\rho.$$\n",
    "\n",
    "Conservation of mass tells us that the total number of cars in an interval $[x_1, x_2]$ can only increase (or decrease) because of the flux of cars entering at point $x_1$ and exiting at point $x_2$. So the rate of change of the number of cars is equal to the difference of those fluxes. In integral form, this says:\n",
    "$$\\frac{\\partial}{\\partial t} \\int_{x_1}^{x_2} \\rho(x,t) \\, dx = q(x_1) - q(x_2) \n",
    "= -\\int_{x_1}^{x_2} \\frac{\\partial}{\\partial x} q(x,t) \\, dx.$$\n",
    "Bringing the derivatives inside, on any interval $[x_1,x_2]$ we have\n",
    "$$\\int_{x_1}^{x_2} \\frac{\\partial}{\\partial t}\\rho(x,t) + \n",
    "\\frac{\\partial}{\\partial x} q(x,t) \\, dx = 0,$$\n",
    "from which we conclude the integrand is zero. That we have the PDE\n",
    "$$ \\rho_t + q_x = 0.$$"
   ]
  },
  {
   "cell_type": "markdown",
   "metadata": {
    "slideshow": {
     "slide_type": "subslide"
    }
   },
   "source": [
    "As it stands, we can't solve this equation because we don't have enough information. In partcular, we don't know what the velocity is. \n",
    "\n",
    "If $v$ were constant, this is easy enough to solve with a traveling wave solution,\n",
    "$$\\rho(x,t) = f(x-vt)$$\n",
    "where $f(x) = \\rho(x,0)$ is some initial distribution of cars along the roadway.\n",
    "\n",
    "If $v = v(x)$ is a function only of position (and not of time), an exact solution is also possible. (You should try it). This would correspond to a roadway with posted speed limits that are different at different spots on the road, and everyone follows the limit. You should look at that solution, and observe that it is something like a traveling wave again.\n",
    "\n",
    "These two models don't explain the traffic jam, though. "
   ]
  },
  {
   "cell_type": "markdown",
   "metadata": {
    "slideshow": {
     "slide_type": "subslide"
    }
   },
   "source": [
    "Suppose, though, that the velocity depends on the density. This is a hypothesized law, suggesting that car drivers will tend to go faster if there is a lot of space on the road, and will slow down if the density increases. \n",
    "\n",
    "A simple model for this would be something like\n",
    "$$ v = 1-\\rho, \\mbox{ where we assume density is between 0 and 1.}$$\n",
    "In this case, the flux is $q = \\rho(1-\\rho)$ and so the local wave speed is \n",
    "$$\\frac{dq}{d\\rho} = 1 - 2\\rho,$$\n",
    "which is positive or negative depending on whether the density is below or above $1/2$. \n",
    "\n",
    "The differential equation becomes\n",
    "$$\\rho_t + (1-2\\rho)\\rho_x = 0,$$\n",
    "which is non-linear, but simple enough that we can solve it numerically. (Maybe even analytically). What we do observe is that if at some point $x$ on the road, if $\\rho > 1/2, \\rho_x >0$, then the density will be increasing with time. While if $\\rho < 1/2, \\rho_x >0$, the density will be decreasing with time. This will tend to form a \"shock wave\" in the density of cars. That is, if there is a point on the road where the density passes from below 1/2 to above 1/2, the density before that point decreases, while the density after that point increases. This continues until you get the sharp shock wave. You car sees this as a transition into a very dense, slow moving region of cars, following by the clearing out of the road as you move into the rarified region after the shock. \n",
    "\n",
    "It's kind of a pain to insert a diagram in Jupyter. Maybe you (the student) can come up will a better way to plug in an image. But here is one from Fowler's book. "
   ]
  },
  {
   "cell_type": "markdown",
   "metadata": {
    "slideshow": {
     "slide_type": "subslide"
    }
   },
   "source": [
    "![Image from Fowler text](Fowler_fig1_1_cropped.jpg)"
   ]
  },
  {
   "cell_type": "markdown",
   "metadata": {
    "slideshow": {
     "slide_type": "slide"
    }
   },
   "source": [
    "## Calculation and validation\n",
    "\n",
    "This is a simple, first order PDE. Should be easy to solve numerically.\n",
    "\n",
    "This doesn't appear in Fowler. The results makes me question his analysis.\n",
    "\n",
    "Try adjusting the height of the initial density function, from .1 to 1.0 ."
   ]
  },
  {
   "cell_type": "code",
   "execution_count": 121,
   "metadata": {
    "collapsed": true,
    "slideshow": {
     "slide_type": "subslide"
    }
   },
   "outputs": [],
   "source": [
    "# Some tools we want to load in\n",
    "%matplotlib inline\n",
    "from numpy import *\n",
    "from matplotlib.pyplot import *\n",
    "from ipywidgets import interact\n"
   ]
  },
  {
   "cell_type": "code",
   "execution_count": 128,
   "metadata": {
    "collapsed": true,
    "slideshow": {
     "slide_type": "subslide"
    }
   },
   "outputs": [],
   "source": [
    "t = linspace(0,2,2001)\n",
    "x = linspace(-4,4,1001)\n",
    "p = zeros((len(x),len(t))) # density\n",
    "\n",
    "dt = t[2]-t[1]\n",
    "dx = x[2]-x[1]\n",
    "dp = zeros(len(x))\n",
    "\n",
    "p[:,0] = .1*exp(-x**2)\n",
    "for j in range(0,len(t)-1):\n",
    "    dp[1:len(x)-1] = (p[2:len(x),j]-p[0:len(x)-2,j])/(2*dx)\n",
    "    p[:,j+1] = p[:,j] - dt*(1-2*p[:,j])*dp\n",
    "        \n",
    "        "
   ]
  },
  {
   "cell_type": "code",
   "execution_count": 126,
   "metadata": {
    "collapsed": true,
    "slideshow": {
     "slide_type": "subslide"
    }
   },
   "outputs": [],
   "source": [
    "def update(k=0):\n",
    "    plot(x,p[:,k])\n",
    "    xlim([-2,2])\n",
    "    show()"
   ]
  },
  {
   "cell_type": "code",
   "execution_count": 127,
   "metadata": {
    "slideshow": {
     "slide_type": "subslide"
    }
   },
   "outputs": [
    {
     "data": {
      "application/vnd.jupyter.widget-view+json": {
       "model_id": "f109a09fed514576bd4226be68e7c908"
      }
     },
     "metadata": {},
     "output_type": "display_data"
    },
    {
     "data": {
      "text/plain": [
       "<function __main__.update>"
      ]
     },
     "execution_count": 127,
     "metadata": {},
     "output_type": "execute_result"
    }
   ],
   "source": [
    "interact(update,k=(0,len(t)-1))"
   ]
  },
  {
   "cell_type": "markdown",
   "metadata": {
    "slideshow": {
     "slide_type": "skip"
    }
   },
   "source": [
    "# A sample Project\n",
    "\n",
    "## A target fusion reactor\n",
    "\n",
    "A fusion reactor is a controlled nuclear fusion device, used to fuse light atoms into heavier atoms (e.g. hydrogen fused into helium), producing heat that can be used to power an electric generator. Fusion is of course the source of energy in our Sun. \n",
    "\n",
    "On earth, nuclear fusion has been achieved through the use of hydrogen bombs, which are actually initiated by atomic bombs (using nuclear fission of uranium or plutonium atoms). A bomb is an inconvenient source of energy, so people are interested in created controlled fusion to generate useful power.\n",
    "\n",
    "Current technology rely on tokomaks (toroidal-shaped magnetic bottles) or intense laser beams to force a plasma of hydrogen to fuse into helium. They have not yet reached the break-even point, where more energy is produced than what is consumed in initiating the reaction.\n",
    "\n",
    "A company in B.C., named General Fusion, is attempted a method where physical pistons are used to compress a metal ball containing the plasma of hydrogen atoms. It is a novel idea, heavily funded, but also not yet able to achieve effective fusion. \n",
    "\n",
    "As an example of a mathematical modeling problem, we will look at a report by Michael Lindstrom, published in SIAM's Journal of Applied Math, which gives an interesting asymptotic analysis of the General Fusion approach. The reference is below. \n",
    "\n",
    "This is a good example of how to approach the applied mathematical modeling problem in a real industrial setting. \n",
    "\n",
    "\n",
    "http://epubs.siam.org/doi/abs/10.1137/140984142\n",
    "\n",
    "There are two key steps, **Nondimensionalization** and **Asymptotics** that are used in the paper. We will look at these first, in some simpler examples, to help understand them."
   ]
  },
  {
   "cell_type": "markdown",
   "metadata": {
    "slideshow": {
     "slide_type": "slide"
    }
   },
   "source": [
    "## 1. Problem identification\n",
    "\n",
    "- discussion with experts\n",
    "- raise your own questions\n"
   ]
  },
  {
   "cell_type": "markdown",
   "metadata": {
    "slideshow": {
     "slide_type": "slide"
    }
   },
   "source": [
    "## 2. Model formulation\n",
    " - physical laws (conservation of mass, energy, momentum, etc)\n",
    " - statistical relations (correlations, regression, models)\n",
    " - deterministic or stochastic models\n",
    " - systems theory, time series, etc"
   ]
  },
  {
   "cell_type": "markdown",
   "metadata": {
    "slideshow": {
     "slide_type": "slide"
    }
   },
   "source": [
    "## 3. Reduction\n",
    "- non-dimensionalization\n",
    "- Buckinham Pi theorem\n",
    "- Asymptotics"
   ]
  },
  {
   "cell_type": "markdown",
   "metadata": {
    "slideshow": {
     "slide_type": "slide"
    }
   },
   "source": [
    "# Non-dimensionalization\n",
    "- remove physical units and physical parameters, to get core mathematical system.\n",
    "- rescale the equations describing the physical process, to typical values\n",
    "- result is an equation will only dimensionless variable"
   ]
  },
  {
   "cell_type": "markdown",
   "metadata": {
    "slideshow": {
     "slide_type": "slide"
    }
   },
   "source": [
    "# Non-dimensionalization\n",
    "- an equation for a physical process is a balance of physical mechanisms \n",
    "- these mechanisms are not of equal importance\n",
    "- to assess relative importance,  scale by 'typical' values for the parameters,  boundary conditions, geometry, etc.\n",
    "- physical parameters collapse into a smaller collection of dimensionless parameters.\n",
    "- these dimesionless elements indicate relative importance of the various mechanisms."
   ]
  },
  {
   "cell_type": "markdown",
   "metadata": {
    "slideshow": {
     "slide_type": "slide"
    }
   },
   "source": [
    "![Advection diagram](Advection.png)"
   ]
  },
  {
   "cell_type": "markdown",
   "metadata": {
    "slideshow": {
     "slide_type": "slide"
    }
   },
   "source": [
    "# Example: Advection-diffusion\n",
    "\n",
    "\n",
    "- a hot pipe cooled by blowing a flow of air over it\n",
    "-  e.g. cooling hot pipes in a nuclear reactor\n",
    "- assume a simple model, heat is carried away the air (or other fluid), no change in fluid flow\n",
    "- this is called advection"
   ]
  },
  {
   "cell_type": "markdown",
   "metadata": {
    "slideshow": {
     "slide_type": "slide"
    }
   },
   "source": [
    "\n",
    "- reduce  to 2D flow of fluid\n",
    "- $\\mathbf{u}(x,y)$ the velocity field, $T(x,y,t)$ the temperature\n",
    "- $$\\mathbf{u}(x,y) = \\nabla \\phi (x,y) = U(1 + \\frac{a^2(y^2-x^2)}{(x^2 + y^2)^2}, \n",
    "\\frac{-2xy}{(x^2+y^2)^2}),$$\n",
    " is the standard solution for incompressible flow around a cylinder ($\\phi$ harmonic)\n",
    "- U is a constant, the limiting velocity at infinity\n"
   ]
  },
  {
   "cell_type": "markdown",
   "metadata": {
    "collapsed": true,
    "slideshow": {
     "slide_type": "slide"
    }
   },
   "source": [
    "Conservation law for heat (change in total heat due to temperature flux) gives\n",
    "\n",
    "$$\\rho c ( \\frac{\\partial T}{\\partial t} + \\mathbf{u}\\cdot\\nabla T) = k \\nabla^2 T,$$\n",
    "\n",
    "where parameters $\\rho, c, k$ are the density of the fluid, heat capacity,  conductivity."
   ]
  },
  {
   "cell_type": "markdown",
   "metadata": {
    "slideshow": {
     "slide_type": "slide"
    }
   },
   "source": [
    "Key step in nondimensionalization: scale parameters by 'typical' values.\n",
    "- typical length is $a = $ radius of the pipe\n",
    "- typical velocity is $U = $ fluid velocity at infinity\n",
    "- typical time is $a/U = $ the time it takes fluid to flow past the typical length.\n",
    "\n",
    "Dimensionless variables given by this scaling:\n",
    "$$ \\mathbf{x} = a\\mathbf{x'}, \\quad \\mathbf{u} = U\\mathbf{u'}, t = \\frac{a}{U}t'.$$\n",
    "Interpolate the temperature,  between $T_a$ and $T_\\infty$:\n",
    "$$T(\\mathbf{x},t) = T_\\infty + (T_a-T_\\infty)T'(\\mathbf{x},t).$$"
   ]
  },
  {
   "cell_type": "markdown",
   "metadata": {
    "slideshow": {
     "slide_type": "slide"
    }
   },
   "source": [
    "Apply a change of variables, to change our derivatives in the orginal variables $\\mathbf{x},\\mathbf{u},t,T$ into those in the primed variables. For instance\n",
    "$$ \\frac{\\partial T}{\\partial t} = (T_a - T_\\infty) \\frac{\\partial T'}{\\partial t}\n",
    " = (T_a - T_\\infty) \\frac{\\partial T'}{\\partial t'}\\frac{\\partial t'}{\\partial t}=\n",
    " (T_a - T_\\infty) \\frac{\\partial T'}{\\partial t'}\\frac{U}{a}.$$\n",
    " Similarly,\n",
    " $$\\mathbf{u}\\cdot\\nabla T = \\frac{U}{a}(T_a - T_\\infty)\\nabla' T'.$$"
   ]
  },
  {
   "cell_type": "markdown",
   "metadata": {
    "slideshow": {
     "slide_type": "slide"
    }
   },
   "source": [
    "Using these changes of variables, our original PDE \n",
    "$$\\rho c ( \\frac{\\partial T}{\\partial t} + \\mathbf{u}\\cdot\\nabla T) = k \\nabla^2 T,$$\n",
    "becomes\n",
    "$$\\frac{\\rho c U}{a}( \\frac{\\partial T'}{\\partial t'} + \\mathbf{u'}\\cdot\\nabla' T') = \\frac{k}{a^2} \\nabla'^2 T'.$$\n",
    " \n",
    " Pulling  all parameters to one side, the rescaled PDE becomes\n",
    "$$\\frac{\\rho c U a}{k}( \\frac{\\partial T'}{\\partial t'} + \\mathbf{u'}\\cdot\\nabla' T') =  \\nabla'^2 T'.$$"
   ]
  },
  {
   "cell_type": "markdown",
   "metadata": {
    "slideshow": {
     "slide_type": "slide"
    }
   },
   "source": [
    "This one parameter $Pe = \\frac{\\rho c U a}{k}$ is called the Peclet number, it is non-dimensional, and it contains everything that is important (mathematically) in the problem. Even the boundary conditions have been simplified, to\n",
    "$$ T'\\rightarrow 0 \\mbox{ as $r' \\rightarrow\\infty$ }, \n",
    "T'\\rightarrow 1 \\mbox{ as $r' \\rightarrow 1$ }. $$ "
   ]
  },
  {
   "cell_type": "markdown",
   "metadata": {
    "slideshow": {
     "slide_type": "slide"
    }
   },
   "source": [
    "### Dropping the primes\n",
    "It is common to rewrite the scaled equation\n",
    "$$\\frac{\\rho c U a}{k}( \\frac{\\partial T'}{\\partial t'} + \\mathbf{u'}\\cdot\\nabla' T') =  \\nabla'^2 T'$$\n",
    "simply as\n",
    "$$Pe( \\frac{\\partial T}{\\partial t} + \\mathbf{u}\\cdot\\nabla T) =  \\nabla^2 T,$$\n",
    "where $Pe$ is our dimensionless parameter, and the variable $u,t,T$ etc are actually the scaled, dimensionless variables, just with the primes hidden. \n",
    "\n",
    "This is called \"dropping the primes\" and it is pretty standard practice in math modeling. Confusing if you haven't seen it before, and you should be prepared for physicists and others to yell at you that your dimensions are all wrong (and therefore, they will conclude, you must be an idiot). \n"
   ]
  },
  {
   "cell_type": "markdown",
   "metadata": {
    "slideshow": {
     "slide_type": "skip"
    }
   },
   "source": [
    "That's all we need to say about the flow. What about temperature?\n",
    "\n",
    "Temperature is a measure of internal energy. It has to be conserved, even though it is flowing around. We can say the rate of change in the internal energy (temperature) of a particle of fluid must equal the net heat flux into that particle. Because the particle flows with the fluid motion, we must replace the time derivative $\\partial / \\partial t$ with the material derivative in time,\n",
    "$$\\frac{\\partial}{\\partial t} + \\mathbf{u}\\cdot\\nabla.$$\n",
    "Thus the conservation law for temperature $T$ (rate of change is proportional to the flux) becomes\n",
    "$$\\rho c ( \\frac{\\partial T}{\\partial t} + \\mathbf{u}\\cdot\\nabla T) = k \\nabla^2 T,$$\n",
    "where $\\rho, c, k$ are physical constants. Specifically, $\\rho$ is the density of the fluid, $c$ is the heat capacity, and $k$ is the conductivity. \n",
    "\n",
    "Boundary conditions: well, at infinity we expect the temperature to reach some stable level $T_\\infty$. At the pipe boundary, we could impose various conditions -- eg we might like to model Newton's cooling law (rate of cooling is proportional to temperature difference) or involve the flow of heat within the pipe. But let's keep things simple and assume $T=T_a$ is constant at the pipe's surface.\n",
    "\n",
    "This would correspond to a pipe that has reach equilibrium (so temperature is not changing), and with high heat conductivity so that the temperature is the same all around the pipe.\n",
    "\n",
    "Now, here is the key step in nondimensionalization. We scale all our parameters by 'typical' values:\n",
    "- typical length is $a = $ radius of the pipe\n",
    "- typical velocity is $U = $ fluid velocity at infinity\n",
    "- typical time is $a/U = $ the time it takes the typical fluid to flow past the typical length.\n",
    "\n",
    "We now introduce dimensionless variables by this scaling:\n",
    "$$ \\mathbf{x} = a\\mathbf{x'}, \\quad \\mathbf{u} = U\\mathbf{u'}, t = \\frac{a}{U}t'.$$\n",
    "We should also scale the temperature, let's interpolate between $T_a$ and $T_\\infty$:\n",
    "$$T(\\mathbf{x},t) = T_\\infty + (T_a-T_\\infty)T'(\\mathbf{x},t).$$\n",
    "\n",
    "We then apply a change of variables, to change our derivatives in the orginal variables $\\mathbf{x},\\mathbf{u},t,T$ into those in the primed variables. For instance\n",
    "$$ \\frac{\\partial T}{\\partial t} = (T_a - T_\\infty) \\frac{\\partial T'}{\\partial t}\n",
    " = (T_a - T_\\infty) \\frac{\\partial T'}{\\partial t'}\\frac{\\partial t'}{\\partial t}=\n",
    " (T_a - T_\\infty) \\frac{\\partial T'}{\\partial t'}\\frac{U}{a}.$$\n",
    " Similarly,\n",
    " $$\\mathbf{u}\\cdot\\nabla T = \\frac{U}{a}(T_a - T_\\infty)\\nabla' T'.$$\n",
    "\n",
    "Using these changes of variables, our original PDE \n",
    "$$\\rho c ( \\frac{\\partial T}{\\partial t} + \\mathbf{u}\\cdot\\nabla T) = k \\nabla^2 T,$$\n",
    "becomes\n",
    "$$\\frac{\\rho c U}{a}( \\frac{\\partial T'}{\\partial t'} + \\mathbf{u'}\\cdot\\nabla' T') = \\frac{k}{a^2} \\nabla'^2 T'.$$\n",
    " \n",
    " Pulling all the parameters onto one side, the rescaled PDE becomes\n",
    "$$\\frac{\\rho c U a}{k}( \\frac{\\partial T'}{\\partial t'} + \\mathbf{u'}\\cdot\\nabla' T') =  \\nabla'^2 T'.$$\n",
    "\n",
    "This one parameter $Pe = \\frac{\\rho c U a}{k}$ is called the Peclet number, it is non-dimensional, and it contains everything that is important (mathematically) in the problem. Even the boundary conditions have been simplified, to\n",
    "$$ T'\\rightarrow 0 \\mbox{ as $r' \\rightarrow\\infty$ }, \n",
    "T'\\rightarrow 1 \\mbox{ as $r' \\rightarrow 1$ }. $$ \n"
   ]
  },
  {
   "cell_type": "markdown",
   "metadata": {
    "slideshow": {
     "slide_type": "slide"
    }
   },
   "source": [
    "### Three comments\n",
    "- the original problem have many parameters $(U,a,\\rho,c,k,T_\\infty,T_a)$. However, the reduced problem had only ONE parameter. This is a huge reduction in the complexity.\n",
    "- all problems with the same value of Peclet constant Pe will have the same solution, obtained by solving the one, canonical scaled problem. \n",
    "- this dimensionless parameter tells us a lot about the balance of physical mechanisms."
   ]
  },
  {
   "cell_type": "markdown",
   "metadata": {
    "slideshow": {
     "slide_type": "skip"
    }
   },
   "source": [
    "### Three comments\n",
    "- the original problem have many parameters $(U,a,\\rho,c,k,T_\\infty,T_a)$. However, the reduced problem had only ONE parameter. This is a huge reduction in the complexity.\n",
    "- all problems with the same value of Peclet constant Pe will have the same solution, obtained by solving the one, canonical scaled problem. \n",
    "- this dimensionless parameter tells us a lot about the balance of physical mechanisms. \n",
    "\n",
    "$$ Pe = \\frac{\\rho c U a}{k} = \\frac{\\rho c U (T-T_\\infty)}{k(T-T_\\infty)/a}$$\n",
    "which is the ratio of advective heat flow to the conductive heat flow in the fluid. So for instance, with $Pe$ large, we expect that the advective heat flow dominates the cooling process. That is, most of the heat is carried away by the fluid flow, not conducted away by contact cooling. \n",
    "\n",
    "The book give a funny example of someone with a hot head. Which I suppose should be extended into 3 dimensions as a long cylinder to be really relevant. But anyway, he takes\n",
    "- $a = 10cm$ as the radius of the head\n",
    "- $\\rho = 1.3 kg/m^3$ as density of the air\n",
    "- $ c = 993 J/kg \\cdot K$ as the heat capacity of air\n",
    "- $k = 0.24 W/m \\cdot K$ as the conductivity of air\n",
    "- $U = 1m/s$ as the velocity of air flow (which is actually pretty slow. Like 3.6 km/hour)\n",
    "\n",
    "This gives a Peclet number of $Pe \\approx 500$, which is rather large. Lots of advection. "
   ]
  },
  {
   "cell_type": "markdown",
   "metadata": {
    "slideshow": {
     "slide_type": "skip"
    }
   },
   "source": [
    "## 2. Damped Pendulum Example\n",
    "Here again, I should draw a picture. Imagine, though, a simple pendulum consisting of a string of length $l$, attached to a bob of mass $m$, and we measure the angle from vertical as $\\theta$. The forces on the pendulum are due to gravity, and some friction proportional to the velocity. Newtons's second law (force equals mass times acceleration) gives us the ODE\n",
    "$$m l \\frac{d^2\\theta}{dt^2} + mk \\frac{d\\theta}{dt} + mg\\sin\\theta = 0,$$\n",
    "where the first term is the mass times acceleration, second term is the friction, third term is the force due to gravity. (We only take the component of gravity perpendicular to the pendulum, since the component along the pendulum is balanced by tension in the string.) I threw in an extra $m$ in the middle term, so we can cancel to get:\n",
    "$$ l \\frac{d^2\\theta}{dt^2} + k \\frac{d\\theta}{dt} + g\\sin\\theta = 0.$$\n",
    "\n",
    "We introduce initial conditions:\n",
    "$$\\theta = \\theta_0, \\frac{d\\theta}{dt} = \\omega_0, \\mbox{ at $t=0$.}$$\n",
    "\n",
    "Checking units, we see\n",
    "$$[g] = [L][T]^{-2}, [k] = [L][T]^{-1},$$\n",
    "where we sort of force the choice on $k$ in order to get the equation to balance. (i.e. te friction force is a bit of a hack here.)\n",
    "\n",
    "There are at least three choices for a possible \"normal\" time scale in the problem:\n",
    "- $t_1 = \\sqrt{\\frac{l}{g}}$ which is roughly the period of small, undamped oscillations\n",
    "- $t_2 = \\frac{l}{k}$ which is the damping time for the fraction-damped motion\n",
    "- $t_3 = \\frac{1}{\\omega_0}$ which is the time to move one full radian, if there were no forces of gravity or friction.\n",
    "\n",
    "What is important to note is that we do have a choice here, and we should should a normal time for the kind of problem we want to study. For instance, if we have a really fast rotating pendulum (that is, the initial velocity is set to be really high), we might want to use $t_3$ as the standard time. \n",
    "\n",
    "Let's chooce $t_1$ as the standard time, which is appropriate if we are looking for behaviour that is close to undamped, small oscilations. Our scaled time is given by\n",
    "$$ t = t_1 t'$$\n",
    "and so the equation of motion becomes\n",
    "$$ \\frac{d^2\\theta}{dt'^2} + \\frac{t_1}{t_2} \\frac{d\\theta}{dt'} + \\sin\\theta = 0$$\n",
    "with initial conditions\n",
    "$$ \\theta = \\theta_0, \\frac{d\\theta}{dt'} = \\frac{t_1}{t_3} \\mbox{ at $t=0$.}$$\n",
    "\n",
    "This model now has two dimensionless parameter:\n",
    "- $\\gamma = \\frac{t_1}{t_2} = \\sqrt{\\frac{k^2}{gl}}$, the ratio of the time for gravity effects, to time for damping effects\n",
    "- $\\beta_0 = \\frac{t_1}{t_3} = \\sqrt{\\frac{\\omega_0^2 l}{g}}$, ratio of time for one period of oscillation, to the time for rotating one full circle in the absense of other forces. \n",
    "\n",
    "Dropping primes, we write this non-dimensional model as:\n",
    "$$ \\frac{d^2\\theta}{dt^2} + \\gamma \\frac{d\\theta}{dt} + \\sin\\theta = 0$$\n",
    "with initial conditions\n",
    "$$ \\theta = \\theta_0, \\frac{d\\theta}{dt} = \\beta_0 \\mbox{ at $t=0$.}$$\n",
    "\n",
    "Again, note we have gotten rid of all physical constants, leaving only a few dimensionless parameter. We can argue about how many there are. From one point of view, $\\gamma$ is a dimensionless parameter, while $\\theta_0, \\beta_0$ are just initial conditions for the dimentionless varable $\\theta$. So, is that one parameter? Or three?\n",
    "\n"
   ]
  },
  {
   "cell_type": "markdown",
   "metadata": {
    "slideshow": {
     "slide_type": "slide"
    }
   },
   "source": [
    "## Buckingham Pi Theorem\n",
    "This is a precise statement of how and when we can non-dimensionlize a problem, and even how we can deduce an answer to some aspect of a physical problem, from the given parameters without a long calculation. It is a formalization of the procedures we saw in the examples above."
   ]
  },
  {
   "cell_type": "markdown",
   "metadata": {
    "slideshow": {
     "slide_type": "slide"
    }
   },
   "source": [
    "## Statement of Buckingham Pi Theorem\n",
    "Suppose we have a physical model with $n$ physical variables and parameters, \n",
    "$$Q_1, Q_2, \\ldots, Q_n $$\n",
    "in $r$ independent basic phyiscal dimensions (length, time, charge, etc).\n",
    "\n",
    "Then we can find $k = n-r$ independent dimensionless combinations of the physical parameters, say\n",
    "$$\\Pi_1, \\Pi_2, \\ldots, \\Pi_k$$\n",
    "where each $\\Pi_j$ is a product of powers of the $Q_i$'s. "
   ]
  },
  {
   "cell_type": "markdown",
   "metadata": {
    "slideshow": {
     "slide_type": "slide"
    }
   },
   "source": [
    "## Statement of Buckingham Pi Theorem (2)\n",
    "\n",
    "Moverover, if the solution of the model gives one variable $Q_n$ in terms of the others, say\n",
    "$$Q_n = f(Q_1, Q_2, \\ldots, Q_{n-1}),$$\n",
    "then there is a function $g$ with\n",
    "$$\\Pi_k = g(\\Pi_1, \\Pi_2, \\ldots, \\Pi_{k-1}),$$\n",
    "perhaps with some re-ordering of the vairables."
   ]
  },
  {
   "cell_type": "markdown",
   "metadata": {
    "slideshow": {
     "slide_type": "slide"
    }
   },
   "source": [
    "![Image of pendulum](Pendulum.png)"
   ]
  },
  {
   "cell_type": "markdown",
   "metadata": {
    "slideshow": {
     "slide_type": "slide"
    }
   },
   "source": [
    "### Example: pendulum\n",
    "- simple pendulum \n",
    "- $n=4$ parameters length $L$, mass $m$, gravity $g$,  small oscillation period $T$\n",
    "- $r=3$ units of dimension mass, time and length\n",
    "- Theorem says  $k=1$ dimensionless parameter to describe the problem. \n",
    "- Could guess it, but we use a matrix method\n",
    "\n"
   ]
  },
  {
   "cell_type": "markdown",
   "metadata": {
    "slideshow": {
     "slide_type": "slide"
    }
   },
   "source": [
    "We express the units of $T,m,L,g$ in terms of powers of the basic dimensions, so \n",
    "$$\n",
    "\\begin{array}{ccccc} T&m&L&g&\\qquad\\qquad \\end{array}  \\\\\n",
    "\\begin{array}{ccccc}\n",
    "1&0&0&-2&\\mbox{time unit}\\\\\n",
    "0&1&0&0&\\mbox{mass unit}\\\\\n",
    "0&0&1&1&\\mbox{length unit}\n",
    "\\end{array}  $$\n",
    "This gives our matrix\n",
    "$$M = \n",
    "\\left[\\begin{array}{cccc}\n",
    "1&0&0&-2\\\\\n",
    "0&1&0&0\\\\\n",
    "0&0&1&1\n",
    "\\end{array} \\right] $$\n",
    "and we easily find one independent vector in the kernel as\n",
    "$$ \\mathbf{a} = \n",
    "\\left[\n",
    "\\begin{array}{c}\n",
    "2\\\\\n",
    "0\\\\\n",
    "-1\\\\\n",
    "1\n",
    "\\end{array}\n",
    "\\right].\n",
    "$$\n"
   ]
  },
  {
   "cell_type": "markdown",
   "metadata": {
    "slideshow": {
     "slide_type": "slide"
    }
   },
   "source": [
    "This gives us immediately our dimensionless parameter\n",
    "$$\\Pi = T^2m^0L^{-1}g^1 = \\frac{gT^2}{L}.$$\n",
    "Since there is only the one parameter, the physical problem must be solved in general as\n",
    "$$\\frac{gT^2}{L} = \\mbox{ a constant }.$$\n",
    "\n",
    "We can now solve for $T$ in terms of the other physical parameters, so\n",
    "$$ T = k\\sqrt{\\frac{L}{g}}.$$"
   ]
  },
  {
   "cell_type": "markdown",
   "metadata": {
    "slideshow": {
     "slide_type": "slide"
    }
   },
   "source": [
    "$$ T = k\\sqrt{\\frac{L}{g}}.$$\n",
    "\n",
    "This already tells us that the period increases with the square root of length. \n",
    "\n",
    "Decreases with one over the square root of gravity.\n",
    "\n",
    "And we haven't solved a single differential equation. (If we did, we find $k = 2\\pi.)$"
   ]
  },
  {
   "cell_type": "markdown",
   "metadata": {
    "slideshow": {
     "slide_type": "skip"
    }
   },
   "source": [
    "### Example using the Buckinham Pi theorem\n",
    "Take a simple pendulum of length $L$, mass $m$, under gravity of magnitue $g$, and for small oscillations, we assume it has a period of time length $T$. Here we have $n=4$ physical parameters ($L,m,g,T$), and $r=3$ units of dimension (mass, time and length). So we expect $k=1$ dimensionless parameter to describe the problem. We could guess it, but lets use this matrix method. Here, we express the units of $T,m,L,g$ in terms of powers of the basic dimensions, so \n",
    "$$\n",
    "\\begin{array}{ccccc} T&m&L&g&\\qquad\\qquad \\end{array}  \\\\\n",
    "\\begin{array}{ccccc}\n",
    "1&0&0&-2&\\mbox{time unit}\\\\\n",
    "0&1&0&0&\\mbox{mass unit}\\\\\n",
    "0&0&1&1&\\mbox{length unit}\n",
    "\\end{array}  $$\n",
    "This gives our matrix\n",
    "$$M = \n",
    "\\left[\\begin{array}{cccc}\n",
    "1&0&0&-2\\\\\n",
    "0&1&0&0\\\\\n",
    "0&0&1&1\n",
    "\\end{array} \\right] $$\n",
    "and we easily find one independent vector in the kernel as\n",
    "$$ \\mathbf{a} = \n",
    "\\left[\n",
    "\\begin{array}{c}\n",
    "2\\\\\n",
    "0\\\\\n",
    "-1\\\\\n",
    "1\n",
    "\\end{array}\n",
    "\\right].\n",
    "$$\n",
    "This gives us immediately our dimensionless parameter\n",
    "$$\\Pi = T^2m^0L^{-1}g^1 = \\frac{gT^2}{L}.$$\n",
    "Since there is only the one parameter, the physical problem must be solved in general as\n",
    "$$\\frac{gT^2}{L} = k^2, \\mbox{ a constant }.$$\n",
    "\n",
    "We don't know (yet) what this constant is, but we can now solve for $T$ in terms of the other physical parameters, so\n",
    "$$ T = k\\sqrt{\\frac{L}{g}},$$\n",
    "which already tells us a lot. For instance, the period $T$ is independent of the mass $m$. Doubling the length increases the period by only $\\sqrt{2}$. Doubling the force of gravity decreases the period by $\\sqrt{2}$ (i.e. the pendulum swings faster.) Apparently Newton used this fact to show that the earth is not a perfect sphere. (As you get closer to the north pole, gravity increases slightly because the radial distance to the centre of the earth is getting smaller. Cederic Villani states that this was measured with a pendulum!) A careful experiment, or an exact solution to the linearized ODE for the problem will find that in fact $k=2\\pi$, so \n",
    "$$ T = 2\\pi\\sqrt{\\frac{L}{g}}.$$\n",
    "\n",
    "For instance, with a meter long pendulum, and $g = 9.81 m/s$, we find $T = 2.006 $ seconds. Which might be useful to know some day. A Royal pendulum has a length of $.994$ meters, which gives a half-period of almost exactly one second. \n",
    "\n"
   ]
  },
  {
   "cell_type": "markdown",
   "metadata": {
    "slideshow": {
     "slide_type": "skip"
    }
   },
   "source": [
    "### Another example - fluid flow, pushing on a cylinder\n",
    "Suppose we have a cylinder of length $L$, cross section is a disk of radius $a$, being pushed on by a fluid of density $\\rho$, dynamic viscosity $\\mu$, with a free-stream velocity of $U$, resulting on some net force $F$ on the cylinder. We expect that we can solve the problem, to find the force in terms of those other parameters:\n",
    "$$F = f(\\rho, \\mu, U, a, L). $$\n",
    "We have 6 quantities ($\\rho, \\mu, U, a, L,F$) and 3 basic units (mass, length, time). We expect to find $3=6-3$ dimensionless parameters. One good choice is $\\Pi_1 = L/a$. Another good choice is the Reynolds number $\\Pi_2 = R_e = Ua\\rho/\\mu$. What is the third one? We could guess, or we could use the matrix method. Our description of the physical quantities in terms of powers of the basis units is \n",
    "$$\n",
    "\\begin{array}{ccccccc} a &L& \\rho&\\mu&U&F&\\qquad\\qquad\\quad \\end{array}  \\\\\n",
    "\\begin{array}{ccccccc}\n",
    "1&1&-3&-1&1&1&\\mbox{length unit}\\\\\n",
    "0&0&1&1&0&1&\\mbox{mass unit}\\\\\n",
    "0&0&0&-1&-1&-2&\\mbox{time unit}\n",
    "\\end{array}  $$\n",
    "This gives our matrix\n",
    "$$M = \n",
    "\\left[\\begin{array}{cccccc}\n",
    "1&1&-3&-1&1&1\\\\\n",
    "0&0&1&1&0&1\\\\\n",
    "0&0&0&-1&-1&-2\n",
    "\\end{array} \\right]. $$\n",
    "The three independent vectors in the kernel are \n",
    "$$ \\mathbf{a}_1 = \n",
    "\\left[\n",
    "\\begin{array}{c}\n",
    "-1\\\\\n",
    "1\\\\\n",
    "0\\\\\n",
    "0\\\\\n",
    "0\\\\\n",
    "0\n",
    "\\end{array}\n",
    "\\right],\n",
    "$$\n",
    "(corresponding to $L/a$),\n",
    "$$ \\mathbf{a}_2 = \n",
    "\\left[\n",
    "\\begin{array}{c}\n",
    "1\\\\\n",
    "0\\\\\n",
    "1\\\\\n",
    "-1\\\\\n",
    "1\\\\\n",
    "0\n",
    "\\end{array}\n",
    "\\right],\n",
    "$$\n",
    "(corresponding to the Reynolds numbers), and \n",
    "$$ \\mathbf{a}_2 = \n",
    "\\left[\n",
    "\\begin{array}{c}\n",
    "-1\\\\\n",
    "-1\\\\\n",
    "-1\\\\\n",
    "0\\\\\n",
    "-2\\\\\n",
    "1\n",
    "\\end{array}\n",
    "\\right],\n",
    "$$\n",
    "which gives\n",
    "$$\\Pi_3 = \\frac{F}{\\rho U^2aL}.$$\n",
    "You might think of this as the ratio of the force, to the force on the cylinder of cross sectional area $aL$, due to the inviscous fluid pressure ($\\rho U^2)$. \n",
    "\n",
    "Now, we expect force to be solvable in terms of the physical parameters:\n",
    "$$F = f(\\rho, \\mu, U, a, L)$$\n",
    "and thus we can solve for one of the dimensionless parameters in terms of the others:\n",
    "$$\\Pi_3 = g(\\Pi_1,\\Pi_2).$$\n",
    "In other words, we have\n",
    "$$\\frac{F}{\\rho U^2 a L} = g(\\frac{L}{a}, R_e),$$\n",
    "or equivalently \n",
    "$$F = {\\rho U^2 a L} \\cdot g(\\frac{L}{a}, R_e).$$\n",
    "What this says, roughly, is that if we keep the Reynolds number $R_e$ constant, and the relative shape of the cylinder $L/a$ constant, then the force scales linearly in density $\\rho$, linearly in crossectional area $aL$ of the cylinder, and quadratically in the velocity (the $U^2$ factor).\n",
    "\n",
    "So, without solving anything about the fluid flow, we can infer an awful lot about the form of the force acting on the cylinder. \n",
    "\n"
   ]
  },
  {
   "cell_type": "markdown",
   "metadata": {
    "slideshow": {
     "slide_type": "skip"
    }
   },
   "source": [
    "## Structure of an Industrial Math Report / Project\n",
    "\n",
    "I've uploaded a few examples of industrial math modeling reports. Some are better than others, so take a look at the samples (and others online) to get an idea of what appeals to you.\n",
    "\n",
    "Let's stress that the basic structure of the report is this:\n",
    "1. Introduction\n",
    "2. Main Body\n",
    "3. Conclusion\n",
    "4. Acknowledgements\n",
    "5. References\n",
    "\n",
    "where the _Intro_ and _Conclusion_ are written in non-technical language, that a non-expert should be able to understand. Think of this as something your parents or siblings will read, and so you should use ordinary language that outlines what the report is about, and what overall conclusions you reach. By \"ordinary language\" I don't mean to be overly casual, or sloppy, or elementary. Just still to proper English, stay away from equations and technical jargon, and write how you imagine a good researcher would write in a way that will interest and entice you and your colleagues.\n",
    "\n",
    "Note the _Acknowledgements_ are important -- in addition to thanking anyone who helped out, you often must acknowledge financial support from any grants or companies that helped you out, or even the use of specialized data from somewhere. \n",
    "\n",
    "_References_ -- important. Rather than doing this __last__ in your work, keep track from the beginning of the project all the books and research articles that you work from as you do the project. You can easily grab BibTex entries from MathSciNet if you don't like typing all that info. Stick it all in a file, and then when you are writing your report, all the references are there and ready to use. (And will be properly formatted by BibTex.)\n",
    "\n",
    "Now for the important stuff. \n",
    "\n",
    "The __Main Body__ is where the deep content of the report goes. Industrial math problem reports are different than a pure math paper, where the goal in pure math is usually to present a theorem and proof (along with supporting theory, definitions, lemmas, and so forth). For these applied problems, you must start with a specific problem, find a way (or many ways) to approach the problem mathematically, then use your math to solve the problem in some tangible way. Using real data is important (although sometimes we start with simulated data to rapidly test ideas), using real, accurage computation is also important. And it is very important that somehow you link the mathematical results back to the original problem, and ideally give a concrete answer to the problem.\n",
    "\n",
    "The sections in the Main Body might go like this:\n",
    "\n",
    "Main Body\n",
    "- description of the industrial problem and its relevants to a real industy\n",
    "- a reformulation of the problem in terms of physical processes, statistical models, dynamical models, etc\n",
    "- translation of the physics or statistics into a concrete mathematical model (given time, one might consider several different models) This will include equations, information about data, initial conditions, boundary conditions, etc. \n",
    "- Non-dimensionalizing and/or simplifying the model\n",
    "- mathematical analysis of the model (could include asymptitics) or applying computational methods\n",
    "- applying the analysis/computation to real data\n",
    "- translating the mathematical results into something relevant to the original industrial problem. Ideally, solving the original question that arose in the industrial problem\n",
    "- discussion of the limitations of the model and its applicabilty\n",
    "- perhaps some suggestions for future work. \n",
    "\n",
    "These are a lot of sections! But that is to be expected, as the methods to solve industrial problems are multi-step and complete.\n",
    "\n",
    "As an example, we look at Lindstrom's paper on the Target Fusion Reactor. \n",
    "\n",
    "http://epubs.siam.org/doi/abs/10.1137/140984142\n",
    "\n",
    "Here is a quick summary of his sections, as labeled in the paper. \n",
    "\n",
    "- 1.. Introduction. Discussing the goal is to build on a simplified model of a fusion reactor, originally developed for numerical modeling, by doing a mathematical analysis of the model to verify the numerics.\n",
    "\n",
    "- 1.1 A design for a magnetized target fusion reactor. He discuss in detail the industrial problem, which is to build a fusion reactor using a sphere of molten lead surrounding a core of hydrogen fuel, to compress the core to the point of fusion. This follows a specific reactor design of the company  General Fusion. The key goal here is to estimate the minimum size of the hydrogen core under compression, which is considered a key parameter indicating the efficiency of the reactor. \n",
    "\n",
    "- 1.2 Discusses the physical model\n",
    "\n",
    "- 2.. Sets up the equations, initial and boundary conditions, non-dimensionalization, and fixes an asymptotic parameters. \n",
    "\n",
    "- 3.. The formal asymptotic analysis \n",
    "\n",
    "- 4.. Comparision of the analysis with numerical results, using real data. He points out the correspondance between what his new asymptotc analysis has to say about the minimum radius of the core, compared to the numerical results from an earlier, computational paper. (This answers teh original problem.)\n",
    "\n",
    "- 4.6 Discusses the limitations of the model, and even points out some weaknesses in the basic reactor design (e.g. very little energy actually is transfered from the lead ball to the hydrogen core). \n",
    "\n",
    "- 5.. Conclusions and future work (Maybe not the order I would recommend, but okay)\n",
    "\n",
    "-  Acknowledgements\n",
    "\n",
    "- References (21 of them, even for this short paper)\n",
    "\n",
    "Another interesting example is Ockenon and Tayler's paper on those wires that sit above electric trains -- considered a \"classic\" in applied modeling, and discussed in Howison's text. (On the Pantograph). You can see the paper here http://rspa.royalsocietypublishing.org/content/322/1551/447   or look at it on our BaseCamp project.\n",
    "\n",
    "\n",
    "\n",
    "\n",
    "\n",
    "\n",
    "\n",
    "\n",
    "\n",
    "\n"
   ]
  },
  {
   "cell_type": "markdown",
   "metadata": {
    "slideshow": {
     "slide_type": "slide"
    }
   },
   "source": [
    "## Asymptotics\n",
    "\n",
    "- see the references\n",
    "- main idea is to do the non-dimensionalization, then look for terms that are small. \n",
    "- do the analysis in terms of small parameters..."
   ]
  },
  {
   "cell_type": "code",
   "execution_count": null,
   "metadata": {
    "collapsed": true
   },
   "outputs": [],
   "source": []
  }
 ],
 "metadata": {
  "celltoolbar": "Slideshow",
  "kernelspec": {
   "display_name": "Python 3",
   "language": "python",
   "name": "python3"
  },
  "language_info": {
   "codemirror_mode": {
    "name": "ipython",
    "version": 3
   },
   "file_extension": ".py",
   "mimetype": "text/x-python",
   "name": "python",
   "nbconvert_exporter": "python",
   "pygments_lexer": "ipython3",
   "version": "3.6.1"
  }
 },
 "nbformat": 4,
 "nbformat_minor": 2
}
