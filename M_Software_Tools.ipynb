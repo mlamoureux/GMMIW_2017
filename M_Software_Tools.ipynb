{
 "cells": [
  {
   "cell_type": "markdown",
   "metadata": {
    "slideshow": {
     "slide_type": "slide"
    }
   },
   "source": [
    "<h1 align=\"center\">Math Modelling in Industry Workshop</h1>\n",
    "\n",
    "<h4 align=\"center\">July 31 - August 5, 2017 </h4>\n",
    "\n",
    "<h4 align=\"center\"> PIMS - University of Manitoba </h4>\n",
    "\n",
    "\n",
    "<h2 align=\"center\">Using software tools for the workshop </h2>\n",
    "\n",
    "<h4 align=\"center\">Michael P. Lamoureux </h4>\n"
   ]
  },
  {
   "cell_type": "markdown",
   "metadata": {
    "slideshow": {
     "slide_type": "slide"
    }
   },
   "source": [
    "# Math Modelling - Software tools\n",
    "\n",
    "\n"
   ]
  },
  {
   "cell_type": "markdown",
   "metadata": {
    "slideshow": {
     "slide_type": "subslide"
    }
   },
   "source": [
    "We will be using some, or all, of the following tools:\n",
    "\n",
    "- Basecamp for team work, file sharing, discussions\n",
    "- Jupyter notebooks, to present text, math, code, visualizations\n",
    "- Matlab, Python, R, Julia - for coding\n",
    "- NumPy, SciPy, PyLab, Pandas - tools for scientific computing\n",
    "- TeX, Beamer, Powerpoint -- for presentations\n"
   ]
  },
  {
   "cell_type": "markdown",
   "metadata": {
    "slideshow": {
     "slide_type": "slide"
    }
   },
   "source": [
    "## Basecamp\n",
    "\n",
    "Online at http://www.basecamp.com, access via your browser.\n",
    "\n",
    "Each team has their own project on Basecamp.\n",
    "\n",
    "You should have received an invitation to log in. (If not, tell Michael.)\n",
    "\n",
    "Please include your name, and a photo, so your team members can identify you.\n",
    "\n",
    "Great for sharing files, keep track of progress, recording who does what on the project."
   ]
  },
  {
   "cell_type": "markdown",
   "metadata": {
    "slideshow": {
     "slide_type": "slide"
    }
   },
   "source": [
    "## Jupyter notebook\n",
    "\n",
    "This presentation is actually a Jupyter notebook.\n",
    "\n",
    "I like it because it is trivial to include text, images, math formulas and working code in a single document.\n",
    "\n",
    "Uses the **Markdown** language to do basic typesetting, include images, etc. (google it!)\n"
   ]
  },
  {
   "cell_type": "markdown",
   "metadata": {
    "slideshow": {
     "slide_type": "slide"
    }
   },
   "source": [
    "## Here is some simple math."
   ]
  },
  {
   "cell_type": "code",
   "execution_count": 5,
   "metadata": {
    "slideshow": {
     "slide_type": "subslide"
    }
   },
   "outputs": [
    {
     "data": {
      "text/plain": [
       "3.0995354623330815"
      ]
     },
     "execution_count": 5,
     "metadata": {},
     "output_type": "execute_result"
    }
   ],
   "source": [
    "# Sum of square reciprocals\n",
    "(1/1 + 1/4 + 1/9 + 1/16 + 1/25 + 1/36 + 1/49 + 1/64 + 1/81 + 1/100)*2"
   ]
  },
  {
   "cell_type": "markdown",
   "metadata": {
    "slideshow": {
     "slide_type": "subslide"
    }
   },
   "source": [
    "Looks like that might be approximately $\\pi$, but it is not. In fact\n",
    "$$\\sum_1^\\infty \\frac{1}{n^2} = \\frac{\\pi^2}{6}. $$\n",
    "Notice that I just threw in a real computation, and a math formula, without even thinking!"
   ]
  },
  {
   "cell_type": "markdown",
   "metadata": {
    "slideshow": {
     "slide_type": "slide"
    }
   },
   "source": [
    "With just a bit of work, I can include some Python tools and get plots. "
   ]
  },
  {
   "cell_type": "code",
   "execution_count": 7,
   "metadata": {
    "slideshow": {
     "slide_type": "subslide"
    }
   },
   "outputs": [
    {
     "name": "stdout",
     "output_type": "stream",
     "text": [
      "Populating the interactive namespace from numpy and matplotlib\n"
     ]
    }
   ],
   "source": [
    "%pylab inline"
   ]
  },
  {
   "cell_type": "code",
   "execution_count": 10,
   "metadata": {
    "slideshow": {
     "slide_type": "subslide"
    }
   },
   "outputs": [
    {
     "data": {
      "text/plain": [
       "[<matplotlib.lines.Line2D at 0x110c40cf8>]"
      ]
     },
     "execution_count": 10,
     "metadata": {},
     "output_type": "execute_result"
    },
    {
     "data": {
      "image/png": "[encoded data removed]",
      "text/plain": [
       "<matplotlib.figure.Figure at 0x110ca9828>"
      ]
     },
     "metadata": {},
     "output_type": "display_data"
    }
   ],
   "source": [
    "x = linspace(0,4*pi)\n",
    "y=sin(x)\n",
    "plot(x,y)"
   ]
  },
  {
   "cell_type": "markdown",
   "metadata": {
    "slideshow": {
     "slide_type": "slide"
    }
   },
   "source": [
    "## Using Jupyter\n",
    "\n",
    "- learn about Jupyter at http://jupyter.org/\n",
    "- use it online at https://pims.syzygy.ca or https://cybera.syzygy.ca (cybera has Julia)\n",
    "- install it on your laptop, perhaps using Anaconda\n",
    "- http://intro.syzygy.ca for an eBook on how to use the syzygy service\n",
    "- https://github.com/mlamoureux for some examples\n"
   ]
  },
  {
   "cell_type": "markdown",
   "metadata": {
    "slideshow": {
     "slide_type": "slide"
    }
   },
   "source": [
    "## Matlab, Python, R, Julia, \n",
    "\n",
    "- all useful for scientific computation\n",
    "- Matlab used a lot by mathematicians, esp at universities\n",
    "- R, RStudio used a lot by statisticians\n",
    "- Python is used a lot in industry, esp for data science\n",
    "- NumPy, SciPy, MatPlotLib, Panda are Python extensions for scientific computation\n",
    "- Julia: new language. Richard Slevinski will talk about it\n"
   ]
  },
  {
   "cell_type": "markdown",
   "metadata": {
    "slideshow": {
     "slide_type": "slide"
    }
   },
   "source": [
    "## Using Matlab, Python, R, Julia\n",
    "\n",
    "- at UManitoba labs, can access Matlab and R on all machines\n",
    "- Python, R, Julia available on syzygy.ca\n",
    "- tryjulia.org to test out Julia\n",
    "- install on your laptop (Matlab costs money!)"
   ]
  },
  {
   "cell_type": "markdown",
   "metadata": {
    "slideshow": {
     "slide_type": "slide"
    }
   },
   "source": [
    "# Presentations\n",
    "\n",
    "- Powerpoint on all lab machines\n",
    "- Tex, Beamer only on some lab machines\n",
    "- For quick and convenient presenations, consider Jupyter notebooks. \n"
   ]
  },
  {
   "cell_type": "markdown",
   "metadata": {
    "slideshow": {
     "slide_type": "slide"
    }
   },
   "source": [
    "## Done.\n",
    "\n",
    "Questions?\n",
    "\n",
    "Introduce Slevinski"
   ]
  },
  {
   "cell_type": "markdown",
   "metadata": {
    "slideshow": {
     "slide_type": "slide"
    }
   },
   "source": [
    "### Notes to Michael\n",
    "\n",
    "-- you might need to install MathJax into Chrome or Firefox in order to see the math formulas in .html format. \n",
    "\n",
    "-- you need to install something in Jupyter in order to get the slide show versions to work.\n",
    "\n",
    "It's called RISE. Use conda to install it. In the terminal, enter this:\n",
    "\n",
    "conda install -c damianavila82 rise\n",
    "\n"
   ]
  },
  {
   "cell_type": "code",
   "execution_count": null,
   "metadata": {
    "collapsed": true
   },
   "outputs": [],
   "source": []
  }
 ],
 "metadata": {
  "celltoolbar": "Slideshow",
  "kernelspec": {
   "display_name": "Python 3",
   "language": "python",
   "name": "python3"
  },
  "language_info": {
   "codemirror_mode": {
    "name": "ipython",
    "version": 3
   },
   "file_extension": ".py",
   "mimetype": "text/x-python",
   "name": "python",
   "nbconvert_exporter": "python",
   "pygments_lexer": "ipython3",
   "version": "3.6.1"
  }
 },
 "nbformat": 4,
 "nbformat_minor": 2
}
