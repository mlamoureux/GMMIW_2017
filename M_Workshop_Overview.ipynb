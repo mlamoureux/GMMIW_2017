{
 "cells": [
  {
   "cell_type": "markdown",
   "metadata": {
    "slideshow": {
     "slide_type": "slide"
    }
   },
   "source": [
    "<h1 align=\"center\">Math Modelling in Industry Workshop</h1>\n",
    "\n",
    "<h4 align=\"center\">July 31 - August 5, 2017 </h4>\n",
    "\n",
    "<h4 align=\"center\"> PIMS - University of Manitoba </h4>\n",
    "\n",
    "\n",
    "<h2 align=\"center\">Workshop Overview </h2>\n",
    "\n",
    "<h4 align=\"center\">Michael P. Lamoureux </h4>\n"
   ]
  },
  {
   "cell_type": "markdown",
   "metadata": {
    "slideshow": {
     "slide_type": "slide"
    }
   },
   "source": [
    "# Deliverables - Must do's.\n",
    "\n",
    "\n"
   ]
  },
  {
   "cell_type": "markdown",
   "metadata": {
    "slideshow": {
     "slide_type": "subslide"
    }
   },
   "source": [
    "Deliverables:\n",
    "\n",
    "- **Wednesday** afternoon: Progress reports (20 min/team)\n",
    "- **Saturday** morning: Final presentations (25 min/team)\n",
    "- Choose 1 or 2 students to make the presentations. \n",
    "- Ask Mentors what question/result they are looking for\n",
    "- Recommended: A written report summarizing the work done\n"
   ]
  },
  {
   "cell_type": "markdown",
   "metadata": {
    "slideshow": {
     "slide_type": "slide"
    }
   },
   "source": [
    "## Mini-workshops\n",
    "\n",
    "- **Monday** 1:00 . -- on software tools, and scientific computing (Slevinski)\n",
    "\n",
    "- **Tuesday** 8:30 -- Mathematical modelling, an art and science (Lamoureux)\n"
   ]
  },
  {
   "cell_type": "markdown",
   "metadata": {
    "slideshow": {
     "slide_type": "slide"
    }
   },
   "source": [
    "## Break-out rooms\n",
    "\n",
    "Teams meet each day, Monday-Friday.\n",
    "\n",
    "These rooms are open to late in the evening. \n",
    "\n",
    "- Team 1 in Room 111, St John's\n",
    "- Team 2 in Room 113, St John's\n",
    "- Team 3 in Room 114, St John's\n",
    "- Team 4 in Room 117, St John's\n",
    "- Team 5 in Room 128, St John's\n",
    "\n",
    "\n"
   ]
  },
  {
   "cell_type": "markdown",
   "metadata": {
    "slideshow": {
     "slide_type": "slide"
    }
   },
   "source": [
    "## Computer labs\n",
    "\n",
    "Your teams may choose to meet in computer rooms instead.\n",
    "\n",
    "- Teams 1,2 in Room 107, Machray\n",
    "- Teams 3,4 in Room 108, Machray (need to fill out forms for access - see John)\n",
    "- Team 5 in Room 311, Machray"
   ]
  },
  {
   "cell_type": "markdown",
   "metadata": {
    "slideshow": {
     "slide_type": "slide"
    }
   },
   "source": [
    "## Fun stuff on the schedule\n",
    "\n",
    "- **Thursday** 12:00-3:00 Free time\n",
    "- Canada Games: https://canadagames.ca/2017/content/winnipeg-2017\n",
    "- Human Rights Museum: https://humanrights.ca/\n",
    "- The Forks http://www.theforks.com/\n",
    "\n",
    "- **Friday** 5:30. Barbeque, at the Daily Bread"
   ]
  }
 ],
 "metadata": {
  "celltoolbar": "Slideshow",
  "kernelspec": {
   "display_name": "Python 3",
   "language": "python",
   "name": "python3"
  },
  "language_info": {
   "codemirror_mode": {
    "name": "ipython",
    "version": 3
   },
   "file_extension": ".py",
   "mimetype": "text/x-python",
   "name": "python",
   "nbconvert_exporter": "python",
   "pygments_lexer": "ipython3",
   "version": "3.6.1"
  }
 },
 "nbformat": 4,
 "nbformat_minor": 2
}
