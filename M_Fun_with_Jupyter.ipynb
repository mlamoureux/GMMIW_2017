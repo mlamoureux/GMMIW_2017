{
 "cells": [
  {
   "cell_type": "markdown",
   "metadata": {},
   "source": [
    "<h1 align=\"center\">Math Modelling in Industry Workshop</h1>\n",
    "\n",
    "<h4 align=\"center\">July 31 - August 5, 2017 </h4>\n",
    "\n",
    "<h4 align=\"center\"> PIMS - University of Manitoba </h4>\n",
    "\n",
    "\n",
    "<h2 align=\"center\">Fun with Jupyter</h2>\n",
    "\n",
    "<h4 align=\"center\">Michael P. Lamoureux </h4>"
   ]
  },
  {
   "cell_type": "markdown",
   "metadata": {},
   "source": [
    "With just a little work, you can include images, video, widgets, and animations in a Jupyter notebooks. \n"
   ]
  },
  {
   "cell_type": "code",
   "execution_count": null,
   "metadata": {
    "collapsed": true
   },
   "outputs": [],
   "source": []
  }
 ],
 "metadata": {
  "kernelspec": {
   "display_name": "Python 3",
   "language": "python",
   "name": "python3"
  },
  "language_info": {
   "codemirror_mode": {
    "name": "ipython",
    "version": 3
   },
   "file_extension": ".py",
   "mimetype": "text/x-python",
   "name": "python",
   "nbconvert_exporter": "python",
   "pygments_lexer": "ipython3",
   "version": "3.6.1"
  }
 },
 "nbformat": 4,
 "nbformat_minor": 2
}
